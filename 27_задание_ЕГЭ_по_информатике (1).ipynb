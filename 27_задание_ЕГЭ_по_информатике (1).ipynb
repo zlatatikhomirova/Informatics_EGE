{
  "nbformat": 4,
  "nbformat_minor": 0,
  "metadata": {
    "colab": {
      "name": "27 задание ЕГЭ по информатике.ipynb",
      "provenance": [],
      "collapsed_sections": []
    },
    "kernelspec": {
      "name": "python3",
      "display_name": "Python 3"
    }
  },
  "cells": [
    {
      "cell_type": "markdown",
      "metadata": {
        "id": "NeP3HQVK34G8"
      },
      "source": [
        "# <center> 27 задание ЕГЭ по информатике </center>"
      ]
    },
    {
      "cell_type": "markdown",
      "metadata": {
        "id": "HYYqIyPPI9_F"
      },
      "source": [
        "Хитрое задание на реже / чаще\n",
        "\n",
        "\n",
        "\n",
        "> Дан набор из N неотрицательных целых чисел, меньших 1000. Для каждого числа вычисляется сумма цифр его десятичной записи. Необходимо определить, какая сумма цифр чаще всего встречается у чисел этого набора. Если таких сумм несколько, нужно вывести наименьшую из них. Напишите эффективную по времени и по памяти программу для решения этой задачи. Программа считается эффективной по времени, если при увеличении количества исходных чисел N в k раз время работы программы увеличивается не более чем в k раз. Программа считается эффективной по памяти, если память, необходимая для хранения всех переменных программы, не превышает одного килобайта и не увеличивается с ростом N.\n",
        "\n",
        "Описание входных и выходных данных:\n",
        "\n",
        "В первой строке входных данных задаётся количество чисел N (1 ≤ N ≤ 10 000). В каждой из последующих N строк записано одно неотрицательное число, меньшее 1000.\n",
        "\n",
        "Пример входных данных:\n",
        "\n",
        "5\n",
        "\n",
        "4\n",
        "\n",
        "15\n",
        "\n",
        "24\n",
        "\n",
        "18\n",
        "\n",
        "31\n",
        "\n",
        "Пример выходных данных для приведённого примера входных данных:\n",
        "\n",
        "4\n",
        "\n",
        "У чисел заданного набора чаще всего — по 2 раза — встречаются суммы 4 и 6, в ответе выводится меньшая из них."
      ]
    },
    {
      "cell_type": "markdown",
      "metadata": {
        "id": "dRaoWP9MP_sB"
      },
      "source": [
        "Интерпретации этого задания:\n",
        "\n",
        "\n",
        "Задача 1.   Найти чаще всего встречающуюся сумму цифр. Если таких несколько, вывести минимальную. \n",
        "\n",
        "Задача 2.   Найти чаще всего встречающуюся сумму цифр. Если таких несколько, вывести максимальную.\n",
        "\n",
        "Задача 3.   Найти реже всего встречающуюся сумму цифр. Если таких несколько, вывести минимальную.\n",
        "\n",
        "Задача 4.   Найти реже всего встречающуюся сумму цифр. Если таких несколько, вывести максимальную.\n",
        "\n",
        "Если нужно вывести любую из этих сумм, то пользуемся одним из вариантов (без разницы каким)."
      ]
    },
    {
      "cell_type": "markdown",
      "metadata": {
        "id": "SHExRKCNSXJi"
      },
      "source": [
        "Чтобы понять, как справиться с любой из этих интерпретаций задачи, рассмотрим алгоритм решения.\n"
      ]
    },
    {
      "cell_type": "markdown",
      "metadata": {
        "id": "iAgnpNjuT8Zo"
      },
      "source": [
        "Алгоритм решения\n",
        "\n",
        "Наименьшая возможная сумма цифр числа в заданном диапазоне равна 0, наибольшая — 27. Почему так? Числа меньше 1000. Значит, максимальное число = 999, а минимальное = 0.  Их суммы цифр соответственно равны 27 и 0.\n",
        "\n",
        "Необходимо создать массив с индексами от 0 до 27 и использовать его для подсчёта встречающихся сумм. Использование массива не делает программу неэффективной по памяти, так как размер массива не зависит от N. \n",
        "\n",
        "Затем нужно найти значение максимального / минимального элемента этого массива и вывести его индекс (больший - большую сумму, меньший - меньшую сумму, значит, здесь возможен разный проход по циклу (от начала к концу или наоборот))."
      ]
    },
    {
      "cell_type": "markdown",
      "metadata": {
        "id": "CicVl7njWCZz"
      },
      "source": [
        "Примечание. Сумма цифр числа - цифровой корень этого числа."
      ]
    },
    {
      "cell_type": "markdown",
      "metadata": {
        "id": "x3hirvn_S9DR"
      },
      "source": [
        "Задача 1"
      ]
    },
    {
      "cell_type": "code",
      "metadata": {
        "id": "gs-Xg3xI32_V"
      },
      "source": [
        "N = int(input()) #  Количество чисел N (1 ≤ N ≤ 10 000).\n",
        "maxx = 0  #  Мы ищем максимум, иначе minn = float('inf').\n",
        "a = [0] * 28  #  Максимальный цифровой корень + 1.\n",
        "\n",
        "#  Вычисление цифрового корня. Оптимальный вариант по времени. Вариант s = sum(map(int, input())) выполняется в два раза дольше.\n",
        "\n",
        "for i in range(1, N+1):\n",
        "\ts = 0\n",
        "\tn = int(input())\n",
        "\twhile n > 0:\n",
        "\t\ts += n % 10\n",
        "\t\tn //= 10\n",
        "\ta[s] += 1\n",
        "\n",
        "#  Первый цикл, от которого зависят выходные данные. Мы ищем самый часто встречающийся цифровой корень. Если бы искали самый редко встречающийся цифровой корень,\n",
        "#  то выражение приняло бы вид  if a[i] != 0 and a[i] < minn.\n",
        "\n",
        "for i in range(28):\n",
        "\tif a[i] > maxx:\n",
        "\t\tmaxx = a[i]\n",
        "       \n",
        "i = 0  #  Мы ищем максимум, иначе i = 27. i был бы равен наибольшему индексу.\n",
        "\n",
        "#  Второй цикл, от которого зависят выходные данные. Мы ищем минимум. Если бы искали максимум, то цикл принял бы вид:\n",
        "# while i >= 0: \n",
        "# \tif a[i] == maxx:\n",
        "# \t\tprint(i)\n",
        "# \t\tbreak\n",
        "# \ti -= 1\n",
        "\n",
        "while i <= 27: \n",
        "\tif a[i] == maxx:\n",
        "\t\tprint(i)\n",
        "\t\tbreak\n",
        "\ti += 1"
      ],
      "execution_count": null,
      "outputs": []
    },
    {
      "cell_type": "markdown",
      "metadata": {
        "id": "sFfiOhspbGfz"
      },
      "source": [
        "Мы разобрали что и от чего зависит. Теперь приведём код для остальных интерпретаций данной задачи."
      ]
    },
    {
      "cell_type": "markdown",
      "metadata": {
        "id": "D7qOF0IqbS1d"
      },
      "source": [
        "Задача 2"
      ]
    },
    {
      "cell_type": "code",
      "metadata": {
        "id": "W2JPrW0obWOT"
      },
      "source": [
        "N = int(input())\n",
        "maxx = 0\n",
        "a = [0] * 28\n",
        "\n",
        "\n",
        "for i in range(1, N+1):\n",
        "\ts = 0\n",
        "\tn = int(input())\n",
        "\twhile n > 0:\n",
        "\t\ts += n % 10\n",
        "\t\tn //= 10\n",
        "\ta[s] += 1\n",
        "\n",
        "for i in range(28):\n",
        "\tif a[i] > maxx:\n",
        "\t\tmaxx = a[i]\n",
        "       \n",
        "i = 27\n",
        "\n",
        "while i >= 0: \n",
        "\tif a[i] == maxx:\n",
        "\t\tprint(i)\n",
        "\t\tbreak\n",
        "\ti -= 1"
      ],
      "execution_count": null,
      "outputs": []
    },
    {
      "cell_type": "markdown",
      "metadata": {
        "id": "gIfjL4rSbWtF"
      },
      "source": [
        "Задача 3"
      ]
    },
    {
      "cell_type": "code",
      "metadata": {
        "id": "a0u7PMTbZ7DD"
      },
      "source": [
        "N = int(input())\n",
        "minn = float('inf')\n",
        "a = [0] * 28\n",
        "\n",
        "for i in range(1, N+1):\n",
        "\ts = 0\n",
        "\tn = int(input())\n",
        "\twhile n > 0:\n",
        "\t\ts += n % 10\n",
        "\t\tn //= 10\n",
        "\ta[s] += 1\n",
        "\n",
        "\n",
        "for i in range(28):\n",
        "\tif a[i] != 0 and a[i] < minn:\n",
        "\t\tminn = a[i]\n",
        "       \n",
        "i = 0\n",
        "\n",
        "while i <= 27:\n",
        "\tif a[i] == minn:\n",
        "\t\tprint(i)\n",
        "\t\tbreak\n",
        "\ti += 1"
      ],
      "execution_count": null,
      "outputs": []
    },
    {
      "cell_type": "markdown",
      "metadata": {
        "id": "BqbMcQqRbYuL"
      },
      "source": [
        "Задача 4"
      ]
    },
    {
      "cell_type": "code",
      "metadata": {
        "id": "Y4913TrOIZCH"
      },
      "source": [
        "N = int(input())\n",
        "minn = float('inf')\n",
        "a = [0] * 28\n",
        "\n",
        "for i in range(1, N+1):\n",
        "\ts = 0\n",
        "\tn = int(input())\n",
        "\twhile n > 0:\n",
        "\t\ts += n % 10\n",
        "\t\tn //= 10\n",
        "\ta[s] += 1\n",
        "\n",
        "\n",
        "for i in range(28):\n",
        "\tif a[i] != 0 and a[i] < minn:\n",
        "\t\tminn = a[i]\n",
        "       \n",
        "i = 27\n",
        "\n",
        "while i >= 0:\n",
        "\tif a[i] == minn:\n",
        "\t\tprint(i)\n",
        "\t\tbreak\n",
        "\ti -= 1"
      ],
      "execution_count": null,
      "outputs": []
    },
    {
      "cell_type": "markdown",
      "metadata": {
        "id": "haWJuoXYfxMN"
      },
      "source": [
        "## <center> Проверка на примере </center>"
      ]
    },
    {
      "cell_type": "code",
      "metadata": {
        "colab": {
          "base_uri": "https://localhost:8080/"
        },
        "id": "3R9m2MsMgDqj",
        "outputId": "b2c5c768-06e1-4a49-c101-d3413aae7519"
      },
      "source": [
        "N = int(input())\n",
        "minn = float('inf')\n",
        "a = [0] * 28\n",
        "\n",
        "for i in range(1, N+1):\n",
        "\ts = 0\n",
        "\tn = int(input())\n",
        "\twhile n > 0:\n",
        "\t\ts += n % 10\n",
        "\t\tn //= 10\n",
        "\ta[s] += 1\n",
        "\n",
        "\n",
        "for i in range(28):\n",
        "\tif a[i] != 0 and a[i] < minn:\n",
        "\t\tminn = a[i]\n",
        "       \n",
        "i = 0\n",
        "\n",
        "while i <= 27:\n",
        "\tif a[i] == minn:\n",
        "\t\tprint(i)\n",
        "\t\tbreak\n",
        "\ti += 1"
      ],
      "execution_count": null,
      "outputs": [
        {
          "output_type": "stream",
          "text": [
            "7\n",
            "15\n",
            "24\n",
            "18\n",
            "31\n",
            "11\n",
            "21\n",
            "10\n",
            "1\n"
          ],
          "name": "stdout"
        }
      ]
    },
    {
      "cell_type": "markdown",
      "metadata": {
        "id": "e1LDVoxv-T-e"
      },
      "source": [
        "## <center> Проверка быстродействия\n",
        "\n",
        "1. Используйте модуль time для проверки того, сколько работает программа. \n",
        "2. Используйте numpy.random.randint() для проверки эффективности вашей программы."
      ]
    },
    {
      "cell_type": "code",
      "metadata": {
        "colab": {
          "base_uri": "https://localhost:8080/"
        },
        "id": "fInxvfDfFOMN",
        "outputId": "0c5d2b71-06b2-4234-a9e5-c653f1414c3e"
      },
      "source": [
        "import time\n",
        "import numpy as np\n",
        "\n",
        "start = time.time()\n",
        "\n",
        "N = 10000\n",
        "minn = float('inf')\n",
        "a = [0] * 28\n",
        "rand = (np.random.randint(0, 1000, size = 10000)).tolist()  #  Числа меньше 1 000, 1 ≤ N ≤ 10 000. Тогда low = 0, high = 1 000, size = 10 000.\n",
        "\n",
        "for i in range(1, N+1):\n",
        "\ts = 0\n",
        "\tn = rand[i-1]\n",
        "\twhile n > 0:\n",
        "\t\ts += n % 10\n",
        "\t\tn //= 10\n",
        "\ta[s] +=1\n",
        "print(a)\n",
        "\n",
        "\n",
        "for i in range(28):\n",
        "\tif a[i]!=0 and a[i]<minn:\n",
        "\t\tminn = a[i]\n",
        "print(minn)\n",
        "i = 0\n",
        "while i<= 27:\n",
        "\tif a[i]==minn:\n",
        "\t\tprint(i)\n",
        "\t\tbreak\n",
        "\ti += 1\n",
        "\n",
        "end = time.time()\n",
        "\n",
        "print(end - start)"
      ],
      "execution_count": null,
      "outputs": [
        {
          "output_type": "stream",
          "text": [
            "[7, 33, 66, 110, 156, 214, 276, 349, 446, 562, 639, 727, 702, 732, 800, 732, 650, 662, 568, 457, 343, 231, 177, 165, 100, 52, 35, 9]\n",
            "7\n",
            "0\n",
            "0.0122833251953125\n"
          ],
          "name": "stdout"
        }
      ]
    },
    {
      "cell_type": "markdown",
      "metadata": {
        "id": "PygkrESJgvq0"
      },
      "source": [
        "Проделав эту работу, вы сможете решать одно из самых сложных заданий ЕГЭ по информатике."
      ]
    }
  ]
}